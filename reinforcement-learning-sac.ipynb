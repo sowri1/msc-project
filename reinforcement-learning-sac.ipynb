{
 "cells": [
  {
   "cell_type": "code",
   "execution_count": 21,
   "metadata": {},
   "outputs": [
    {
     "data": {
      "text/plain": [
       "run_model (generic function with 2 methods)"
      ]
     },
     "execution_count": 21,
     "metadata": {},
     "output_type": "execute_result"
    }
   ],
   "source": [
    "# include(\"./DroneLibV2.jl\")\n",
    "include(\"./ReinforceSACDroneLib.jl\")"
   ]
  },
  {
   "cell_type": "code",
   "execution_count": 2,
   "metadata": {},
   "outputs": [
    {
     "data": {
      "text/plain": [
       "OUNoise([0.0, 0.0, 0.0, 0.0], 0.15, 0.0, 0.2)"
      ]
     },
     "execution_count": 2,
     "metadata": {},
     "output_type": "execute_result"
    }
   ],
   "source": [
    "# Initialize environment\n",
    "state_dim = 12 + 3 + 4\n",
    "action_dim = 4\n",
    "MAX_ACTION = 14000.0\n",
    "EPOCHS = 10\n",
    "\n",
    "# Initialize replay buffer\n",
    "# buffer = deserialize(\"training-buffer_1.dat\")\n",
    "buffer = ReplayBuffer(state_dim, action_dim, 10000000)\n",
    "\n",
    "# Initialize noise\n",
    "noise = OUNoise(action_dim)"
   ]
  },
  {
   "cell_type": "code",
   "execution_count": 3,
   "metadata": {},
   "outputs": [
    {
     "data": {
      "text/plain": [
       "SACAgent(Actor(Chain(Dense(19 => 256, relu), BatchNorm(256), Dense(256 => 512, relu), BatchNorm(512), Dense(512 => 1024, relu), BatchNorm(1024), Dense(1024 => 1024, relu), BatchNorm(1024), Dense(1024 => 256, relu), BatchNorm(256), Dense(256 => 64, relu), BatchNorm(64), Dense(64 => 8, tanh))), Actor(Chain(Dense(19 => 256, relu), BatchNorm(256), Dense(256 => 512, relu), BatchNorm(512), Dense(512 => 1024, relu), BatchNorm(1024), Dense(1024 => 1024, relu), BatchNorm(1024), Dense(1024 => 256, relu), BatchNorm(256), Dense(256 => 64, relu), BatchNorm(64), Dense(64 => 8, tanh))), Critic(Chain(Dense(23 => 256), BatchNorm(256), Dense(256 => 1024), BatchNorm(1024), Dense(1024 => 256), BatchNorm(256), Dense(256 => 128), BatchNorm(128), Dense(128 => 1))), Critic(Chain(Dense(23 => 256), BatchNorm(256), Dense(256 => 1024), BatchNorm(1024), Dense(1024 => 256), BatchNorm(256), Dense(256 => 128), BatchNorm(128), Dense(128 => 1))), Critic(Chain(Dense(23 => 256), BatchNorm(256), Dense(256 => 1024), BatchNorm(1024), Dense(1024 => 256), BatchNorm(256), Dense(256 => 128), BatchNorm(128), Dense(128 => 1))), Critic(Chain(Dense(23 => 256), BatchNorm(256), Dense(256 => 1024), BatchNorm(1024), Dense(1024 => 256), BatchNorm(256), Dense(256 => 128), BatchNorm(128), Dense(128 => 1))), Adam(-0.001, (0.9, 0.999), 1.0e-8, IdDict{Any, Any}()), Adam(0.002, (0.9, 0.999), 1.0e-8, IdDict{Any, Any}()), Adam(0.002, (0.9, 0.999), 1.0e-8, IdDict{Any, Any}()), 1.0, Adam(0.0003, (0.9, 0.999), 1.0e-8, IdDict{Any, Any}()), 2.718281828459045, -4.0, 0.99, 0.05, 14000.0, OUNoise([0.0, 0.0, 0.0, 0.0], 0.15, 0.0, 0.2))"
      ]
     },
     "execution_count": 3,
     "metadata": {},
     "output_type": "execute_result"
    }
   ],
   "source": [
    "# Initialize agent\n",
    "agent = SACAgent(state_dim, action_dim, MAX_ACTION)\n",
    "# agent = DDPGAgent(state_dim, action_dim, max_action, \"agent_critic_model_1.bson\", \"agent_actor_model_1.bson\")"
   ]
  },
  {
   "cell_type": "code",
   "execution_count": 22,
   "metadata": {},
   "outputs": [
    {
     "name": "stderr",
     "output_type": "stream",
     "text": [
      "\u001b[33m\u001b[1m┌ \u001b[22m\u001b[39m\u001b[33m\u001b[1mWarning: \u001b[22m\u001b[39msetup found no trainable parameters in this model\n",
      "\u001b[33m\u001b[1m└ \u001b[22m\u001b[39m\u001b[90m@ Optimisers C:\\Users\\sowri\\.julia\\packages\\Optimisers\\F7eR3\\src\\interface.jl:28\u001b[39m\n"
     ]
    },
    {
     "ename": "LoadError",
     "evalue": "setfield!: immutable struct of type SACAgent cannot be changed",
     "output_type": "error",
     "traceback": [
      "setfield!: immutable struct of type SACAgent cannot be changed",
      "",
      "Stacktrace:",
      " [1] setproperty!(x::SACAgent, f::Symbol, v::Float64)",
      "   @ Base .\\Base.jl:38",
      " [2] update(agent::SACAgent, batch_states::Matrix{Float64}, batch_actions::Matrix{Float64}, batch_next_states::Matrix{Float64}, batch_rewards::Vector{Float64}, batch_dones::Vector{Bool})",
      "   @ Main d:\\University\\MSC Project\\source\\ReinforceSACDroneLib.jl:214",
      " [3] train(agent::SACAgent, buffer::ReplayBuffer, batch_size::Int64, max_episodes::Int64, max_time::Float64, exploration_noise::Float64, std_dev::Float64)",
      "   @ Main d:\\University\\MSC Project\\source\\ReinforceSACDroneLib.jl:292",
      " [4] top-level scope",
      "   @ In[22]:2"
     ]
    }
   ],
   "source": [
    "# Train agent\n",
    "rewards = train(agent, buffer, 256, 1, 2.0, 1.0, 1e-3)"
   ]
  },
  {
   "cell_type": "code",
   "execution_count": null,
   "metadata": {},
   "outputs": [],
   "source": [
    "# sample!(buffer, 1)\n",
    "# state = get_state(model_env.drone)\n",
    "# println(state)\n",
    "action = get_action(agent, model_env.action, model_env.target_position, get_state(model_env.drone))\n",
    "println(action)\n",
    "# println(model_env.target_position)\n",
    "# println(vcat(state, action, model_env.target_position))"
   ]
  },
  {
   "cell_type": "code",
   "execution_count": null,
   "metadata": {},
   "outputs": [],
   "source": [
    "eval_env = DroneEnv([1.0, 1.0, 1.0], 2.0)\n",
    "evaluate(agent, eval_env, 10)"
   ]
  },
  {
   "cell_type": "code",
   "execution_count": null,
   "metadata": {},
   "outputs": [],
   "source": [
    "# target_position = [rand(-10:10), rand(-10:10), rand(1:10)]\n",
    "# target_position = convert(Array{Float64, 1}, target_position)\n",
    "# println(\"Target position: $(target_position)\")\n",
    "# model_env = DroneEnv(target_position, 1.0)\n",
    "# state_space = vcat(get_normalised_state(model_env.drone), model_env.target_position, model_env.action)\n",
    "# output = agent.actor.model(state_space)\n",
    "model_env = DroneEnv([1.0, 1.0, 1.0], 2.0)\n",
    "state_spaces, motors_rpm = run_model(agent, model_env)\n",
    "println(get_state(model_env.drone), model_env.action)\n",
    "plotStateSpaces(state_spaces)\n",
    "plotMotorRpms(motors_rpm)\n",
    "# println(motors_rpm)"
   ]
  },
  {
   "cell_type": "code",
   "execution_count": null,
   "metadata": {},
   "outputs": [],
   "source": [
    "# 2223.8812148571014\n",
    "# 547.933466732502\n",
    "# 681.3510209321976\n",
    "# 1113.097071647644\n",
    "\n",
    "state = get_normalised_state(model_env.drone)\n",
    "addParamterNoise!(agent, 0.001)\n",
    "action = get_action(agent, model_env.action, model_env.target_position, state)"
   ]
  },
  {
   "cell_type": "code",
   "execution_count": null,
   "metadata": {},
   "outputs": [],
   "source": [
    "save_model(agent, \"agent_actor_model.bson\", \"agent_critic_model.bson\")"
   ]
  },
  {
   "cell_type": "code",
   "execution_count": null,
   "metadata": {},
   "outputs": [],
   "source": [
    "generateNoise!(noise)"
   ]
  },
  {
   "cell_type": "code",
   "execution_count": null,
   "metadata": {},
   "outputs": [],
   "source": [
    "### Update the agent weights with noise\n",
    "# old_params = Flux.params(agent.actor.model)\n",
    "# new_params = Flux.params(agent.actor.model)\n",
    "# params_vector = convert(Array{Float64, 1}, Flux.params(agent.actor.model))\n",
    "# for param in new_params\n",
    "# \t# for i in 1:length(new_params)\n",
    "# \ttemp_state = zeros(size(param))\n",
    "# \t# temp_state = zeros(size(new_params[i]))\n",
    "# \tnoise_rand = randn!(temp_state) * 0.1\n",
    "# \ttemp_state += noise_rand\n",
    "# \tparam = temp_state\n",
    "# \t# noise_rand = randn!(ones(size(param))) * 0.1\n",
    "# \t# noise_rand = noise_rand |> gpu\n",
    "# \t# param .+= noise_rand\n",
    "# end\n",
    "\n",
    "println(\"Check if the parameters are changed: \", old_params != new_params)\n",
    "# new_params = Flux.params(agent.actor.model)\n",
    "# println(\"Check if the parameters are changed: \", old_params != new_params)"
   ]
  },
  {
   "cell_type": "code",
   "execution_count": null,
   "metadata": {},
   "outputs": [],
   "source": [
    "println(\"Check if the parameters are changed: \", old_params != Flux.params(agent.actor.model))\n"
   ]
  },
  {
   "cell_type": "code",
   "execution_count": null,
   "metadata": {},
   "outputs": [],
   "source": [
    "check_1 = copy(agent_params[1])\n",
    "check_noise = randn!(ones(size(agent_params[1]))) * 0.1\n",
    "check_noise = check_noise |> gpu\n",
    "check_1 .+= check_noise\n",
    "println(\"Check if the parameters are changed: \", check_1 != agent_params[1])"
   ]
  },
  {
   "cell_type": "code",
   "execution_count": null,
   "metadata": {},
   "outputs": [],
   "source": [
    "generateNoise!(noise)"
   ]
  },
  {
   "cell_type": "code",
   "execution_count": null,
   "metadata": {},
   "outputs": [],
   "source": [
    "position = env.drone.position\n",
    "previous_position = env.previous_position\n",
    "velocity = env.drone.velocity\n",
    "orientation = env.drone.orientation\n",
    "angular_velocity = env.drone.angular_velocity\n",
    "target_position = env.target_position\n",
    "\n",
    "# Calculate the distance to the target\n",
    "dist_to_target = norm(position - target_position)\n",
    "\n",
    "# Calculate the distance to the target in the previous step\n",
    "prev_dist_to_target = norm(previous_position - target_position)"
   ]
  },
  {
   "cell_type": "code",
   "execution_count": null,
   "metadata": {},
   "outputs": [],
   "source": [
    "using JLD2"
   ]
  },
  {
   "cell_type": "code",
   "execution_count": null,
   "metadata": {},
   "outputs": [],
   "source": [
    "actor_model_state = Flux.state(agent.actor.model);\n",
    "critic_model_state = Flux.state(agent.critic.model);"
   ]
  },
  {
   "cell_type": "code",
   "execution_count": null,
   "metadata": {},
   "outputs": [],
   "source": [
    "jldsave(\"agent_actor_model.jld2\"; actor_model_state)\n",
    "jldsave(\"agent_critic_model.jld2\"; critic_model_state)"
   ]
  },
  {
   "cell_type": "code",
   "execution_count": null,
   "metadata": {},
   "outputs": [],
   "source": [
    "import Pkg; Pkg.add(\"BSON\")"
   ]
  },
  {
   "cell_type": "code",
   "execution_count": null,
   "metadata": {},
   "outputs": [],
   "source": [
    "actor_model_state = Flux.state(agent.actor.model);\n",
    "critic_model_state = Flux.state(agent.critic.model);\n",
    "\n",
    "using JLD2\n",
    "jldsave(\"agent_actor_model.jld2\"; actor_model_state)\n",
    "jldsave(\"agent_critic_model.jld2\"; critic_model_state)"
   ]
  },
  {
   "cell_type": "code",
   "execution_count": null,
   "metadata": {},
   "outputs": [],
   "source": [
    "using BSON: @save, @load\n"
   ]
  },
  {
   "cell_type": "code",
   "execution_count": null,
   "metadata": {},
   "outputs": [],
   "source": []
  },
  {
   "cell_type": "code",
   "execution_count": null,
   "metadata": {},
   "outputs": [],
   "source": [
    "# temp_actor = Actor(state_dim, action_dim, max_action)\n",
    "# temp_actor_model = Flux.cpu(temp_actor.model);\n",
    "@load \"agent_actor_model.bson\" actor_model"
   ]
  },
  {
   "cell_type": "code",
   "execution_count": null,
   "metadata": {},
   "outputs": [],
   "source": [
    "println(actor_model)"
   ]
  },
  {
   "cell_type": "code",
   "execution_count": null,
   "metadata": {},
   "outputs": [],
   "source": [
    "model_state = JLD2.load(\"agent_actor_model.jld2\", \"actor_model_state\");"
   ]
  },
  {
   "cell_type": "code",
   "execution_count": null,
   "metadata": {},
   "outputs": [],
   "source": [
    "model = Actor(state_dim, action_dim, max_action)"
   ]
  },
  {
   "cell_type": "code",
   "execution_count": null,
   "metadata": {},
   "outputs": [],
   "source": [
    "# model.model = model.model |> cpu\n",
    "temp_model = model.model |> cpu\n",
    "Flux.loadparams!(temp_model, Flux.params(model_state))"
   ]
  },
  {
   "cell_type": "code",
   "execution_count": null,
   "metadata": {},
   "outputs": [],
   "source": [
    "Flux.loadmodel!(model.model, model_state)"
   ]
  },
  {
   "cell_type": "code",
   "execution_count": null,
   "metadata": {},
   "outputs": [],
   "source": []
  },
  {
   "cell_type": "code",
   "execution_count": null,
   "metadata": {},
   "outputs": [],
   "source": []
  },
  {
   "cell_type": "code",
   "execution_count": null,
   "metadata": {},
   "outputs": [],
   "source": [
    "deserialize(\"file.dat\")"
   ]
  },
  {
   "cell_type": "code",
   "execution_count": null,
   "metadata": {},
   "outputs": [],
   "source": []
  }
 ],
 "metadata": {
  "kernelspec": {
   "display_name": "Julia 1.9.1",
   "language": "julia",
   "name": "julia-1.9"
  },
  "language_info": {
   "file_extension": ".jl",
   "mimetype": "application/julia",
   "name": "julia",
   "version": "1.9.1"
  },
  "orig_nbformat": 4
 },
 "nbformat": 4,
 "nbformat_minor": 2
}
